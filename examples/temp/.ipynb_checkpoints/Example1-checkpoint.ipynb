{
 "cells": [
  {
   "cell_type": "markdown",
   "metadata": {},
   "source": [
    "## Passing parameters to functions"
   ]
  },
  {
   "cell_type": "code",
   "execution_count": 3,
   "metadata": {
    "collapsed": false
   },
   "outputs": [],
   "source": [
    "using ForwardDiff"
   ]
  },
  {
   "cell_type": "markdown",
   "metadata": {},
   "source": [
    "I am going to show a more complicated example than necessary so that I can later demonstrate something that I do not understand.   "
   ]
  },
  {
   "cell_type": "code",
   "execution_count": 12,
   "metadata": {
    "collapsed": false
   },
   "outputs": [
    {
     "name": "stderr",
     "output_type": "stream",
     "text": [
      "WARNING: Method definition lagrange_basis_poly(Any, Any, Any, Any) in module Main at In[7]:2 overwritten at In[12]:3.\n"
     ]
    },
    {
     "data": {
      "text/plain": [
       "lagrange_basis_poly (generic function with 2 methods)"
      ]
     },
     "execution_count": 12,
     "metadata": {},
     "output_type": "execute_result"
    }
   ],
   "source": [
    "function lagrange_basis_poly(x,x_data,Nc,j)\n",
    "    L = 1;\n",
    "    for idx in 1:Nc+1 # use all of the data\n",
    "      if idx!=j\n",
    "        L *= (x - x_data[idx])/(x_data[j]-x_data[idx]);\n",
    "      end\n",
    "    end\n",
    "  return L\n",
    "end"
   ]
  },
  {
   "cell_type": "code",
   "execution_count": 13,
   "metadata": {
    "collapsed": false
   },
   "outputs": [
    {
     "ename": "LoadError",
     "evalue": "UndefVarError: L not defined",
     "output_type": "error",
     "traceback": [
      "UndefVarError: L not defined",
      "",
      " in lagrange_basis_poly(::ForwardDiff.Dual{1,Int64}, ::Array{Int64,1}, ::Int64, ::Int64) at ./In[12]:5",
      " in derivative(::#lagrange_basis_poly, ::Int64, ::Array{Int64,1}, ::Vararg{Any,N}) at /home/febbo/.julia/v0.5/ForwardDiff.jl/src/derivative.jl:6"
     ]
    }
   ],
   "source": [
    "# Derivative of Individual Elements\n",
    "Nc = 2; x_data = [1,2,3]; j=1; x = 1;\n",
    "d = ForwardDiff.derivative(lagrange_basis_poly, x, x_data, Nc, j)"
   ]
  },
  {
   "cell_type": "markdown",
   "metadata": {
    "collapsed": true
   },
   "source": [
    "So, we passed the parameters using the modified ForwardDiff.jl package."
   ]
  },
  {
   "cell_type": "markdown",
   "metadata": {
    "collapsed": true
   },
   "source": [
    "# Demonstrate Parameter Passing to Gradient Function"
   ]
  },
  {
   "cell_type": "code",
   "execution_count": 5,
   "metadata": {
    "collapsed": false
   },
   "outputs": [
    {
     "data": {
      "text/plain": [
       "rosenbrock (generic function with 1 method)"
      ]
     },
     "execution_count": 5,
     "metadata": {},
     "output_type": "execute_result"
    }
   ],
   "source": [
    "function rosenbrock(x::AbstractVector, a, b)\n",
    "    result = zero(eltype(x))\n",
    "    for i in 1:length(x)-1\n",
    "        result += (a - x[i])^2 + b*(x[i+1] - x[i]^2)^2\n",
    "    end\n",
    "    return result\n",
    "end"
   ]
  },
  {
   "cell_type": "code",
   "execution_count": 6,
   "metadata": {
    "collapsed": false
   },
   "outputs": [
    {
     "data": {
      "text/plain": [
       "2-element Array{Int64,1}:\n",
       " -400\n",
       "  200"
      ]
     },
     "execution_count": 6,
     "metadata": {},
     "output_type": "execute_result"
    }
   ],
   "source": [
    "x = [1,2];c = length(x);a = one(eltype(x));b = 100 * a;\n",
    "cfg = ForwardDiff.GradientConfig{c}(x)\n",
    "d = ForwardDiff.gradient(rosenbrock, x, cfg, a, b)"
   ]
  },
  {
   "cell_type": "markdown",
   "metadata": {},
   "source": [
    "So, this functionality is working as well."
   ]
  },
  {
   "cell_type": "markdown",
   "metadata": {},
   "source": [
    "# This is likely a seperate issue, but I think it will probably appropriate to ask now"
   ]
  },
  {
   "cell_type": "markdown",
   "metadata": {},
   "source": [
    "I tried to take the gradient of the lagrange polynomials but I had difficulty. First I tried using this funcion:"
   ]
  },
  {
   "cell_type": "code",
   "execution_count": 10,
   "metadata": {
    "collapsed": false
   },
   "outputs": [
    {
     "name": "stderr",
     "output_type": "stream",
     "text": [
      "WARNING: Method definition lagrange_basis_poly(AbstractArray{#T<:Number, N<:Any}, Any, Any) in module Main at In[9]:14 overwritten at In[10]:14.\n"
     ]
    },
    {
     "data": {
      "text/plain": [
       "lagrange_basis_poly (generic function with 2 methods)"
      ]
     },
     "execution_count": 10,
     "metadata": {},
     "output_type": "execute_result"
    }
   ],
   "source": [
    "function lagrange_basis_poly!{T<:Number}(x::AbstractArray{T},x_data,Nc)\n",
    "   if Nc > length(x_data) -1\n",
    "      error(\"Maximum N value = length(x_data)-1\")\n",
    "    end\n",
    "    ns = length(x);\n",
    "    L = zeros(eltype(x),Nc+1,ns);\n",
    "    for idx in 1:Nc+1\n",
    "      for j in 1:ns\n",
    "        L[idx,j] = lagrange_basis_poly(x[j],x_data,Nc,idx)\n",
    "      end\n",
    "    end\n",
    "    return L\n",
    "end\n",
    "lagrange_basis_poly{T<:Number}(x::AbstractArray{T},x_data,Nc) = lagrange_basis_poly!(x::AbstractArray{T},x_data,Nc)"
   ]
  },
  {
   "cell_type": "code",
   "execution_count": 11,
   "metadata": {
    "collapsed": false
   },
   "outputs": [
    {
     "ename": "LoadError",
     "evalue": "InexactError()",
     "output_type": "error",
     "traceback": [
      "InexactError()",
      "",
      " in setindex!(::Array{ForwardDiff.Dual{2,Int64},2}, ::ForwardDiff.Dual{2,Float64}, ::Int64, ::Int64) at ./array.jl:416",
      " in lagrange_basis_poly!(::Array{ForwardDiff.Dual{2,Int64},1}, ::Array{Int64,1}, ::Int64) at ./In[10]:9",
      " in lagrange_basis_poly(::Array{ForwardDiff.Dual{2,Int64},1}, ::Array{Int64,1}, ::Int64) at ./In[10]:14",
      " in vector_mode_dual_eval(::#lagrange_basis_poly, ::Array{Int64,1}, ::ForwardDiff.GradientConfig{2,Int64,Array{ForwardDiff.Dual{2,Int64},1}}, ::Array{Int64,1}, ::Int64, ::Vararg{Int64,N}) at /home/febbo/.julia/v0.5/ForwardDiff.jl/src/api_utils.jl:60",
      " in vector_mode_gradient(::#lagrange_basis_poly, ::Array{Int64,1}, ::ForwardDiff.GradientConfig{2,Int64,Array{ForwardDiff.Dual{2,Int64},1}}, ::Array{Int64,1}, ::Vararg{Any,N}) at /home/febbo/.julia/v0.5/ForwardDiff.jl/src/gradient.jl:84",
      " in gradient(::#lagrange_basis_poly, ::Array{Int64,1}, ::ForwardDiff.GradientConfig{2,Int64,Array{ForwardDiff.Dual{2,Int64},1}}, ::Array{Int64,1}, ::Vararg{Any,N}) at /home/febbo/.julia/v0.5/ForwardDiff.jl/src/gradient.jl:25"
     ]
    }
   ],
   "source": [
    "# Gradient of Lagrange Polynomials\n",
    "x = [1,2]; Nc = 2; x_data = [1,2,3];\n",
    "d = ForwardDiff.gradient(lagrange_basis_poly, x, cfg, x_data, Nc)"
   ]
  },
  {
   "cell_type": "code",
   "execution_count": null,
   "metadata": {
    "collapsed": true
   },
   "outputs": [],
   "source": [
    "It seems that my attempt to make a matrix of ForwardDiff.Dual elements fails. Any thoughts?"
   ]
  }
 ],
 "metadata": {
  "anaconda-cloud": {},
  "kernelspec": {
   "display_name": "Julia 0.5.0",
   "language": "julia",
   "name": "julia-0.5"
  },
  "language_info": {
   "file_extension": ".jl",
   "mimetype": "application/julia",
   "name": "julia",
   "version": "0.5.0"
  }
 },
 "nbformat": 4,
 "nbformat_minor": 1
}
